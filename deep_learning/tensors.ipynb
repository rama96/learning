{
 "cells": [
  {
   "cell_type": "code",
   "execution_count": 3,
   "metadata": {},
   "outputs": [
    {
     "name": "stdout",
     "output_type": "stream",
     "text": [
      "tensor([[0.3883, 0.1711, 0.3019, 0.8506],\n",
      "        [0.7548, 0.7739, 0.7363, 0.0904],\n",
      "        [0.0661, 0.8832, 0.2725, 0.1249]])\n"
     ]
    }
   ],
   "source": [
    "import torch\n",
    "temp = torch.rand(3,4)\n",
    "print(temp)\n",
    "## Tensor Index Operations \n",
    "# temp[n_start:n_end ,col_index] \n"
   ]
  },
  {
   "cell_type": "code",
   "execution_count": 4,
   "metadata": {},
   "outputs": [
    {
     "name": "stdout",
     "output_type": "stream",
     "text": [
      "tensor([[0.7548, 0.7739, 0.7363, 0.0904],\n",
      "        [0.0661, 0.8832, 0.2725, 0.1249]])\n"
     ]
    }
   ],
   "source": [
    "## Example 1\n",
    "# Using only n_start and n_end\n",
    "print(temp[1:3])"
   ]
  },
  {
   "cell_type": "code",
   "execution_count": 6,
   "metadata": {},
   "outputs": [
    {
     "name": "stdout",
     "output_type": "stream",
     "text": [
      "tensor([0.3883, 0.7548, 0.0661])\n"
     ]
    }
   ],
   "source": [
    "## Example 2\n",
    "# Using only col_index\n",
    "print(temp[:,0])"
   ]
  },
  {
   "cell_type": "code",
   "execution_count": 7,
   "metadata": {},
   "outputs": [
    {
     "name": "stdout",
     "output_type": "stream",
     "text": [
      "tensor([0.1711, 0.7739, 0.8832])\n"
     ]
    }
   ],
   "source": [
    "## Example 2\n",
    "# Using only col_index (2)\n",
    "print(temp[:,1])"
   ]
  },
  {
   "cell_type": "code",
   "execution_count": 8,
   "metadata": {},
   "outputs": [
    {
     "name": "stdout",
     "output_type": "stream",
     "text": [
      "tensor([0.7739, 0.8832])\n"
     ]
    }
   ],
   "source": [
    "## Example 3\n",
    "# Combination of rows and columns\n",
    "print(temp[1:3,1])"
   ]
  },
  {
   "cell_type": "markdown",
   "metadata": {},
   "source": [
    "## Multiplication in Tensors "
   ]
  },
  {
   "cell_type": "code",
   "execution_count": 23,
   "metadata": {},
   "outputs": [
    {
     "name": "stdout",
     "output_type": "stream",
     "text": [
      "tensor([[0.4062, 0.1288, 0.9479, 0.7606, 0.7687],\n",
      "        [0.6894, 0.6732, 0.4078, 0.9193, 0.2529],\n",
      "        [0.5474, 0.5912, 0.4643, 0.7362, 0.3831],\n",
      "        [0.4902, 0.7123, 0.6613, 0.7025, 0.7801],\n",
      "        [0.8417, 0.3052, 0.4589, 0.3867, 0.4824],\n",
      "        [0.7735, 0.6451, 0.2695, 0.9179, 0.9588],\n",
      "        [0.5020, 0.4784, 0.2725, 0.5096, 0.9241],\n",
      "        [0.8759, 0.0198, 0.1717, 0.3793, 0.0825],\n",
      "        [0.9604, 0.5778, 0.1468, 0.5079, 0.1433],\n",
      "        [0.9941, 0.4681, 0.4563, 0.5787, 0.2818]])\n",
      "tensor([[0.4603, 0.0854, 0.3640, 0.9114, 0.5792],\n",
      "        [0.1741, 0.5159, 0.9093, 0.9907, 0.9391],\n",
      "        [0.6767, 0.2190, 0.7759, 0.3953, 0.9994],\n",
      "        [0.0991, 0.1404, 0.0509, 0.0351, 0.2772],\n",
      "        [0.2885, 0.2388, 0.7491, 0.3645, 0.4451],\n",
      "        [0.0697, 0.9169, 0.6411, 0.0372, 0.8197],\n",
      "        [0.6227, 0.3181, 0.5320, 0.8742, 0.0772],\n",
      "        [0.4166, 0.4283, 0.0393, 0.6764, 0.0237],\n",
      "        [0.3884, 0.2123, 0.0918, 0.4530, 0.0286],\n",
      "        [0.9466, 0.3629, 0.8823, 0.8767, 0.7777],\n",
      "        [0.3668, 0.4832, 0.5089, 0.9917, 0.2299],\n",
      "        [0.0513, 0.9173, 0.3363, 0.3475, 0.7270],\n",
      "        [0.5035, 0.1903, 0.8675, 0.6070, 0.4798],\n",
      "        [0.0570, 0.5686, 0.5998, 0.5113, 0.7472],\n",
      "        [0.1726, 0.5202, 0.8099, 0.3017, 0.6056]])\n"
     ]
    }
   ],
   "source": [
    "a = torch.rand(10,5)\n",
    "b = torch.rand(15,5)\n",
    "print(a)\n",
    "print(b)"
   ]
  }
 ],
 "metadata": {
  "interpreter": {
   "hash": "65f0809578cd98e80ae781922cc105b9b8f2ca8bd967a92f71e8a11a791bc223"
  },
  "kernelspec": {
   "display_name": "Python 3.8.5 64-bit ('deep_learning_env': venv)",
   "name": "python3"
  },
  "language_info": {
   "codemirror_mode": {
    "name": "ipython",
    "version": 3
   },
   "file_extension": ".py",
   "mimetype": "text/x-python",
   "name": "python",
   "nbconvert_exporter": "python",
   "pygments_lexer": "ipython3",
   "version": "3.8.5"
  },
  "orig_nbformat": 4
 },
 "nbformat": 4,
 "nbformat_minor": 2
}
